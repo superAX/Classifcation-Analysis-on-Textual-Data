{
 "cells": [
  {
   "cell_type": "code",
   "execution_count": 10,
   "metadata": {},
   "outputs": [
    {
     "name": "stdout",
     "output_type": "stream",
     "text": [
      "----------- QUESTION 1 -----------\n",
      "[nltk_data] Downloading package wordnet to\n",
      "[nltk_data]     C:\\Users\\ninga\\AppData\\Roaming\\nltk_data...\n",
      "[nltk_data]   Package wordnet is already up-to-date!\n",
      "[nltk_data] Downloading package wordnet to\n",
      "[nltk_data]     C:\\Users\\ninga\\AppData\\Roaming\\nltk_data...\n",
      "[nltk_data]   Package wordnet is already up-to-date!\n",
      "[nltk_data] Downloading package averaged_perceptron_tagger to\n",
      "[nltk_data]     C:\\Users\\ninga\\AppData\\Roaming\\nltk_data...\n",
      "[nltk_data]   Package averaged_perceptron_tagger is already up-to-\n",
      "[nltk_data]       date!\n",
      "[nltk_data] Downloading package stopwords to\n",
      "[nltk_data]     C:\\Users\\ninga\\AppData\\Roaming\\nltk_data...\n",
      "[nltk_data]   Package stopwords is already up-to-date!\n"
     ]
    },
    {
     "data": {
      "text/plain": [
       "<Figure size 640x480 with 1 Axes>"
      ]
     },
     "metadata": {},
     "output_type": "display_data"
    },
    {
     "data": {
      "text/plain": [
       "\"\\nplt.hist(newsgroups_train.target)\\nplt.xticks(range(20), newsgroups_train.target_names)\\nlocs, labels = plt.xticks()\\nplt.setp(labels, rotation=25)\\nplt.xlabel('Categories')\\nplt.ylabel('# Documents')\\nplt.title('Histogram of training documents')\\nplt.grid(True)\\nplt.show()\\n\""
      ]
     },
     "execution_count": 10,
     "metadata": {},
     "output_type": "execute_result"
    }
   ],
   "source": [
    "# -*- coding: utf-8 -*-\n",
    "\"\"\"\n",
    "QUESTION 1\n",
    "\"\"\"\n",
    "print(\"----------- QUESTION 1 -----------\")\n",
    "from sklearn.datasets import fetch_20newsgroups\n",
    "from sklearn.feature_extraction import text\n",
    "import nltk\n",
    "nltk.download('wordnet')\n",
    "nltk.download('wordnet')\n",
    "nltk.download('averaged_perceptron_tagger')\n",
    "nltk.download('stopwords')\n",
    "from nltk.stem import WordNetLemmatizer\n",
    "from nltk import pos_tag\n",
    "from nltk.corpus import stopwords\n",
    "from string import punctuation\n",
    "import numpy as np\n",
    "from matplotlib import pyplot as plt\n",
    "from sklearn.datasets import fetch_20newsgroups\n",
    "\n",
    "newsgroups_train = fetch_20newsgroups(subset='train',random_state=42)\n",
    "dictt = {}\n",
    "for i in newsgroups_train.target_names:\n",
    "\t\ttraining_data = fetch_20newsgroups(subset='train', categories=[i],random_state=42)\n",
    "\t\tdictt[i] = len(training_data.data)\n",
    "\n",
    "\n",
    "fig,ax = plt.subplots()\n",
    "plt.bar(list(newsgroups_train.target_names), list(dictt.values()))\n",
    "labels = ax.get_xticklabels()\n",
    "plt.setp(labels, rotation=20, fontsize=10)\n",
    "plt.xlabel('Categories')\n",
    "plt.ylabel('# Documents')\n",
    "plt.title('Histogram of training documents')\n",
    "plt.show()\n",
    "\n",
    "\"\"\"\n",
    "plt.hist(newsgroups_train.target)\n",
    "plt.xticks(range(20), newsgroups_train.target_names)\n",
    "locs, labels = plt.xticks()\n",
    "plt.setp(labels, rotation=25)\n",
    "plt.xlabel('Categories')\n",
    "plt.ylabel('# Documents')\n",
    "plt.title('Histogram of training documents')\n",
    "plt.grid(True)\n",
    "plt.show()\n",
    "\"\"\""
   ]
  },
  {
   "cell_type": "code",
   "execution_count": 11,
   "metadata": {},
   "outputs": [
    {
     "name": "stdout",
     "output_type": "stream",
     "text": [
      "----------- QUESTION 2 -----------\n",
      "Shape of TF-IDF train matrices subset: \n",
      "(4732, 16292)\n",
      "Shape of TF-IDF test matrices subset: \n",
      "(3150, 16292)\n"
     ]
    }
   ],
   "source": [
    "\"\"\"\n",
    "QUESTION 2\n",
    "\"\"\"\n",
    "print(\"----------- QUESTION 2 -----------\")\n",
    "\n",
    "from sklearn.feature_extraction.text import CountVectorizer\n",
    "from sklearn.feature_extraction import text\n",
    "\n",
    "categories = ['comp.graphics', 'comp.os.ms-windows.misc',\n",
    "'comp.sys.ibm.pc.hardware', 'comp.sys.mac.hardware',\n",
    "'rec.autos', 'rec.motorcycles',\n",
    "'rec.sport.baseball', 'rec.sport.hockey']\n",
    "train_dataset = fetch_20newsgroups(subset = 'train', categories = categories, \n",
    "                                   shuffle = True, random_state = 42)\n",
    "test_dataset = fetch_20newsgroups(subset = 'test', categories = categories, \n",
    "                                  shuffle = True, random_state = 42)\n",
    "\n",
    "\n",
    "\n",
    "stop_words_skt = text.ENGLISH_STOP_WORDS\n",
    "stop_words_en = stopwords.words('english')\n",
    "combined_stopwords = set.union(set(stop_words_en),set(punctuation),set(stop_words_skt))\n",
    "\n",
    "#  Converts Penn Treebank tags to WordNet.\n",
    "def penn2morphy(penntag):\n",
    "    morphy_tag = {'NN':'n', 'JJ':'a',\n",
    "                  'VB':'v', 'RB':'r'}\n",
    "    try:\n",
    "        return morphy_tag[penntag[:2]]\n",
    "    except:\n",
    "        return 'n'\n",
    "\n",
    "    \n",
    "wnl = nltk.wordnet.WordNetLemmatizer()    \n",
    "\n",
    "def lemmatize_sent(list_word):\n",
    "    # Text input is string, returns array of lowercased strings(words).\n",
    "    return [wnl.lemmatize(word.lower(), pos=penn2morphy(tag)) for word, tag in pos_tag(list_word)]\n",
    "\n",
    "def stem_rmv_punc(doc):\n",
    "    return (word for word in lemmatize_sent(analyzer(doc)) if word not in combined_stopwords and not word.isdigit())\n",
    "\n",
    "analyzer = text.CountVectorizer().build_analyzer()\n",
    "\n",
    "# Remove stopword, number and set min_df = 3\n",
    "vectorizer = text.CountVectorizer(min_df=3, stop_words='english', analyzer=stem_rmv_punc, token_pattern = r'(?u)\\b[A-Za-z][A-Za-z]+\\b')\n",
    "\n",
    "# For the train data\n",
    "X_train_counts = vectorizer.fit_transform(train_dataset.data)\n",
    "X_train_counts.toarray()\n",
    "\n",
    "# For the test data\n",
    "X_test_counts = vectorizer.transform(test_dataset.data)\n",
    "X_test_counts.toarray()\n",
    "\n",
    "# The following is the tfidf part\n",
    "# For the train data\n",
    "X_train_tfidf = text.TfidfTransformer().fit_transform(X_train_counts)\n",
    "print('Shape of TF-IDF train matrices subset: ')\n",
    "print(X_train_tfidf.shape)\n",
    "\n",
    "# For the test data\n",
    "X_test_tfidf = text.TfidfTransformer().fit_transform(X_test_counts)\n",
    "print('Shape of TF-IDF test matrices subset: ')\n",
    "print(X_test_tfidf.shape)"
   ]
  },
  {
   "cell_type": "code",
   "execution_count": 16,
   "metadata": {},
   "outputs": [
    {
     "name": "stdout",
     "output_type": "stream",
     "text": [
      "----------- QUESTION 3 -----------\n",
      "the shape of the LSI training matrix is  (4732, 50)\n",
      "the shape of the LSI testing matrix is  (3150, 50)\n",
      "the shape of the NMF training matrix is  (4732, 50)\n",
      "the shape of the NMF testing matrix is  (3150, 50)\n",
      "4142.637405379719\n",
      "2838.3214283816583\n"
     ]
    }
   ],
   "source": [
    "\"\"\"\n",
    "QUESTION 3\n",
    "\"\"\"\n",
    "print(\"----------- QUESTION 3 -----------\")\n",
    "\n",
    "# LSI dimensionality reduction\n",
    "\n",
    "from sklearn.decomposition import TruncatedSVD\n",
    "\n",
    "lsi = TruncatedSVD(n_components=50, random_state=42) \n",
    "X_train_LSI = lsi.fit_transform(X_train_tfidf)\n",
    "X_test_LSI = lsi.transform(X_test_tfidf)\n",
    "print(\"the shape of the LSI training matrix is \", X_train_LSI.shape)\n",
    "print(\"the shape of the LSI testing matrix is \", X_test_LSI.shape)\n",
    "\n",
    "\n",
    "# NMF dimensionality reduction\n",
    "\n",
    "from sklearn.decomposition import NMF\n",
    "\n",
    "nmf = NMF(n_components=50, random_state=42)\n",
    "X_train_NMF = nmf.fit_transform(X_train_tfidf)\n",
    "X_test_NMF = nmf.transform(X_test_tfidf)\n",
    "print(\"the shape of the NMF training matrix is \", X_train_NMF.shape)\n",
    "print(\"the shape of the NMF testing matrix is \", X_test_NMF.shape)\n",
    "\n",
    "\n",
    "# compare LSI & NMF\n",
    "\"\"\"\n",
    "# for LSI\n",
    "U_train = X_train_LSI\n",
    "U_test = X_test_LSI\n",
    "Sigma = lsi.explained_variance_ratio_\n",
    "VT = lsi.components_\n",
    "print(VT.shape)\n",
    "print(Sigma.shape)\n",
    "sum_train_LSI = np.sum(np.array(X_train_tfidf - (U_train.dot(Sigma)).dot(VT))**2)\n",
    "sum_test_LSI = np.sum(np.array(X_test_tfidf - (U_test.dot(Sigma)).dot(VT))**2)\n",
    "print(sum_train_LSI)\n",
    "print(sum_test_LSI)\n",
    "\"\"\"\n",
    "# for NMF\n",
    "W_train = X_train_NMF\n",
    "W_test = X_test_NMF\n",
    "H = nmf.components_\n",
    "sum_train_NMF = np.sum(np.array(X_train_tfidf - W_train.dot(H))**2)\n",
    "sum_test_NMF = np.sum(np.array(X_test_tfidf - W_test.dot(H))**2)\n",
    "print(sum_train_NMF)\n",
    "print(sum_test_NMF)\n",
    "\n",
    "\n"
   ]
  },
  {
   "cell_type": "code",
   "execution_count": 17,
   "metadata": {},
   "outputs": [
    {
     "name": "stdout",
     "output_type": "stream",
     "text": [
      "----------- QUESTION 4 -----------\n",
      "\n",
      "Hard Margin ----------------------------\n"
     ]
    },
    {
     "data": {
      "image/png": "[encoded data removed]",
      "text/plain": [
       "<Figure size 432x288 with 1 Axes>"
      ]
     },
     "metadata": {},
     "output_type": "display_data"
    },
    {
     "name": "stdout",
     "output_type": "stream",
     "text": [
      "Confusion Matrix: \n",
      "[[1515   45]\n",
      " [  42 1548]]\n",
      "Accuracy: 0.9723809523809523\n",
      "Recall: 0.9735849056603774\n",
      "Precision: 0.9717514124293786\n",
      "F1-Score: 0.9726672950047125\n",
      "\n",
      "Soft Margin ----------------------------\n"
     ]
    },
    {
     "data": {
      "image/png": "[encoded data removed]",
      "text/plain": [
       "<Figure size 432x288 with 1 Axes>"
      ]
     },
     "metadata": {},
     "output_type": "display_data"
    },
    {
     "name": "stdout",
     "output_type": "stream",
     "text": [
      "Confusion Matrix: \n",
      "[[ 540 1020]\n",
      " [   0 1590]]\n",
      "Accuracy: 0.6761904761904762\n",
      "Recall: 1.0\n",
      "Precision: 0.6091954022988506\n",
      "F1-Score: 0.7571428571428572\n"
     ]
    }
   ],
   "source": [
    "\"\"\"\n",
    "QUESTION 4\n",
    "\"\"\"\n",
    "print(\"----------- QUESTION 4 -----------\")\n",
    "from sklearn.svm import LinearSVC\n",
    "from sklearn.metrics import auc, confusion_matrix, recall_score, roc_curve, precision_score, accuracy_score\n",
    "\n",
    "cat_0 = ['comp.graphics', 'comp.os.ms-windows.misc', 'comp.sys.ibm.pc.hardware', 'comp.sys.mac.hardware']\n",
    "cat_1 = ['rec.autos', 'rec.motorcycles', 'rec.sport.baseball', 'rec.sport.hockey']\n",
    "\n",
    "classes = ['Computer Technology', 'Recreational Activity']\n",
    "\n",
    "# Classify the dataset into 2 categories\n",
    "def classify(dataset):\n",
    "    cat = []\n",
    "    for i in dataset.target:\n",
    "        if(i < 4):\n",
    "            cat.append(0)\n",
    "        else: \n",
    "            cat.append(1)\n",
    "    return(cat)\n",
    "\n",
    "\n",
    "y_train = classify(train_dataset)    \n",
    "y_test = classify(test_dataset)              \n",
    "\n",
    "svm_hard = LinearSVC(C = 1000, random_state = 42)\n",
    "svm_soft = LinearSVC(C = 0.0001, random_state = 42)\n",
    "\n",
    "def question4(svm):\n",
    "    svm.fit(X_train_LSI, y_train)\t\n",
    "    \n",
    "    # ----------------------\n",
    "    # ROC Curves\n",
    "    test_score = svm.decision_function(X_test_LSI)\n",
    "    FPR, TPR, threshold = roc_curve(y_test, test_score)\n",
    "    \n",
    "    # Plot ROC\n",
    "    fig,ax = plt.subplots()\n",
    "    plt.plot(FPR, TPR)\n",
    "    plt.xlim([-0.05, 1.05])\n",
    "    plt.ylim([0.0, 1.05])\n",
    "    plt.xlabel('False Positive Rate')\n",
    "    plt.ylabel('True Positive Rate')\n",
    "    plt.title('ROC Curve (LSI)')\n",
    "    plt.grid()\n",
    "    plt.show()\n",
    "    \n",
    "    # ----------------------\n",
    "    # Metrics\n",
    "    y_test_predict = svm.predict(X_test_LSI)\n",
    "    \n",
    "    confusionMatrix = confusion_matrix(y_test, y_test_predict)\n",
    "    accuracy = accuracy_score(y_test, y_test_predict)\n",
    "    recall = recall_score(y_test, y_test_predict)\n",
    "    precision = precision_score(y_test, y_test_predict)\n",
    "    f1_score = 2/((1/recall) + (1/precision))\n",
    "    \n",
    "    print('Confusion Matrix: ')\n",
    "    print(confusionMatrix)\n",
    "    print('Accuracy:', accuracy)\n",
    "    print('Recall:', recall)\n",
    "    print('Precision:', precision)\n",
    "    print('F1-Score:', f1_score)\n",
    "\n",
    "\n",
    "print('\\nHard Margin ----------------------------')\n",
    "question4(svm_hard)\n",
    "print('\\nSoft Margin ----------------------------')\n",
    "question4(svm_soft)"
   ]
  },
  {
   "cell_type": "code",
   "execution_count": 41,
   "metadata": {},
   "outputs": [
    {
     "name": "stdout",
     "output_type": "stream",
     "text": [
      "----------- QUESTION 5 -----------\n",
      "--------ROC curve and scores without regularization--------\n"
     ]
    },
    {
     "data": {
      "image/png": "[encoded data removed]",
      "text/plain": [
       "<Figure size 432x288 with 1 Axes>"
      ]
     },
     "metadata": {},
     "output_type": "display_data"
    },
    {
     "name": "stdout",
     "output_type": "stream",
     "text": [
      "Confusion Matrix: \n",
      "[[  78 1482]\n",
      " [   0 1590]]\n",
      "Accuracy: 0.5295238095238095\n",
      "Recall: 1.0\n",
      "Precision: 0.517578125\n",
      "F1-Score: 0.6821106821106822\n",
      "\n",
      "\n",
      "\n",
      "\n",
      "\n",
      "--------find the best k for L1 regularization--------\n"
     ]
    },
    {
     "name": "stderr",
     "output_type": "stream",
     "text": [
      "D:\\Anaconda\\envs\\py3\\lib\\site-packages\\sklearn\\metrics\\classification.py:1135: UndefinedMetricWarning: F-score is ill-defined and being set to 0.0 in labels with no predicted samples.\n",
      "  'precision', 'predicted', average, warn_for)\n",
      "D:\\Anaconda\\envs\\py3\\lib\\site-packages\\sklearn\\metrics\\classification.py:1135: UndefinedMetricWarning: F-score is ill-defined and being set to 0.0 in labels with no predicted samples.\n",
      "  'precision', 'predicted', average, warn_for)\n",
      "D:\\Anaconda\\envs\\py3\\lib\\site-packages\\sklearn\\metrics\\classification.py:1135: UndefinedMetricWarning: F-score is ill-defined and being set to 0.0 in labels with no predicted samples.\n",
      "  'precision', 'predicted', average, warn_for)\n",
      "D:\\Anaconda\\envs\\py3\\lib\\site-packages\\sklearn\\metrics\\classification.py:1135: UndefinedMetricWarning: F-score is ill-defined and being set to 0.0 in labels with no predicted samples.\n",
      "  'precision', 'predicted', average, warn_for)\n",
      "D:\\Anaconda\\envs\\py3\\lib\\site-packages\\sklearn\\metrics\\classification.py:1135: UndefinedMetricWarning: F-score is ill-defined and being set to 0.0 in labels with no predicted samples.\n",
      "  'precision', 'predicted', average, warn_for)\n"
     ]
    },
    {
     "name": "stdout",
     "output_type": "stream",
     "text": [
      "the score list is  [0.33485689985281036, 0.8887268757299228, 0.9564255566832308, 0.9659428229680949, 0.9720793642214719, 0.9712329692683621, 0.9712331560782627]\n",
      "the best k for L1 regularization is  1\n",
      "\n",
      "\n",
      "\n",
      "\n",
      "\n",
      "--------find the best k for L2 regularization--------\n"
     ]
    },
    {
     "name": "stderr",
     "output_type": "stream",
     "text": [
      "D:\\Anaconda\\envs\\py3\\lib\\site-packages\\sklearn\\metrics\\classification.py:1135: UndefinedMetricWarning: F-score is ill-defined and being set to 0.0 in labels with no predicted samples.\n",
      "  'precision', 'predicted', average, warn_for)\n"
     ]
    },
    {
     "name": "stdout",
     "output_type": "stream",
     "text": [
      "the score list is  [0.596931159133188, 0.9092450204075643, 0.9608798698861154, 0.967005452562705, 0.9720791600309994, 0.9720788770507994, 0.9714445080221648]\n",
      "the best k for L1 regularization is  1\n",
      "\n",
      "\n",
      "\n",
      "\n",
      "\n",
      "--------ROC curve and scores for L1 regularization with k=1--------\n"
     ]
    },
    {
     "data": {
      "image/png": "[encoded data removed]",
      "text/plain": [
       "<Figure size 432x288 with 1 Axes>"
      ]
     },
     "metadata": {},
     "output_type": "display_data"
    },
    {
     "name": "stdout",
     "output_type": "stream",
     "text": [
      "Confusion Matrix: \n",
      "[[1500   60]\n",
      " [  32 1558]]\n",
      "Accuracy: 0.9707936507936508\n",
      "Recall: 0.979874213836478\n",
      "Precision: 0.9629171817058096\n",
      "F1-Score: 0.9713216957605986\n",
      "\n",
      "\n",
      "\n",
      "\n",
      "\n",
      "--------ROC curve and scores for L2 regularization with k=1--------\n"
     ]
    },
    {
     "data": {
      "image/png": "[encoded data removed]",
      "text/plain": [
       "<Figure size 432x288 with 1 Axes>"
      ]
     },
     "metadata": {},
     "output_type": "display_data"
    },
    {
     "name": "stdout",
     "output_type": "stream",
     "text": [
      "Confusion Matrix: \n",
      "[[1500   60]\n",
      " [  28 1562]]\n",
      "Accuracy: 0.9720634920634921\n",
      "Recall: 0.9823899371069182\n",
      "Precision: 0.9630086313193588\n",
      "F1-Score: 0.9726027397260274\n",
      "\n",
      "\n",
      "\n",
      "\n",
      "\n"
     ]
    }
   ],
   "source": [
    "\"\"\"\n",
    "QUESTION 5\n",
    "\"\"\"\n",
    "print(\"----------- QUESTION 5 -----------\")\n",
    "\n",
    "from sklearn.linear_model import LogisticRegression\n",
    "from sklearn.model_selection import cross_val_score\n",
    "from sklearn.model_selection import ShuffleSplit\n",
    "\n",
    "def logistic_train_plot_score(clf):\n",
    "    # train a model\n",
    "    clf.fit(X_train_LSI,y_train)\n",
    "    \n",
    "    # plot ROC curve\n",
    "    test_score = clf.decision_function(X_test_LSI)\n",
    "    FPR, TPR, threshold = roc_curve(y_test, test_score)\n",
    "    fig,ax = plt.subplots()\n",
    "    plt.plot(FPR, TPR)\n",
    "    plt.xlim([-0.05, 1.05])\n",
    "    plt.ylim([0.0, 1.05])\n",
    "    plt.xlabel('False Positive Rate')\n",
    "    plt.ylabel('True Positive Rate')\n",
    "    plt.title('ROC Curve (LSI)')\n",
    "    plt.grid()\n",
    "    plt.show()\n",
    "    \n",
    "    # calculate scores\n",
    "    y_test_predict = clf.predict(X_test_LSI)\n",
    "    \n",
    "    confusionMatrix = confusion_matrix(y_test, y_test_predict)\n",
    "    accuracy = accuracy_score(y_test, y_test_predict)\n",
    "    recall = recall_score(y_test, y_test_predict)\n",
    "    precision = precision_score(y_test, y_test_predict)\n",
    "    f1_score = 2/((1/recall) + (1/precision))   \n",
    "    print('Confusion Matrix: ')\n",
    "    print(confusionMatrix)\n",
    "    print('Accuracy:', accuracy)\n",
    "    print('Recall:', recall)\n",
    "    print('Precision:', precision)\n",
    "    print('F1-Score:', f1_score)\n",
    "\n",
    "# ROC curve and scores for logistic regression without regularization\n",
    "print(\"--------ROC curve and scores without regularization--------\")\n",
    "clf_logistic = LogisticRegression(C=0.00000000001,random_state=42)\n",
    "logistic_train_plot_score(clf_logistic)\n",
    "print('\\n\\n\\n\\n')\n",
    "\n",
    "\n",
    "\n",
    "# 5-fold cross validation to find the best C for L1 regularization and L2 regularization\n",
    "\n",
    "def score_with_k(pen):\n",
    "    score_list = []\n",
    "    k_list = range(-3,4)\n",
    "    for k in k_list:\n",
    "        clf = LogisticRegression(penalty=pen, C=10**k, random_state=42)\n",
    "        cv = ShuffleSplit(n_splits=5, test_size=0.2, random_state=42)\n",
    "        scores = cross_val_score(clf, X_train_LSI, y_train, cv=cv, scoring='f1_macro')\n",
    "        avg_score = np.average(scores)\n",
    "        score_list.append(avg_score)\n",
    "    print(\"the score list is \",score_list)\n",
    "    best_k_loc = np.argmax(score_list)\n",
    "    best_k = k_list[best_k_loc]\n",
    "    return best_k\n",
    "\n",
    "# best k for L1-regularization \n",
    "print(\"--------find the best k for L1 regularization--------\")\n",
    "best_k_L1 = score_with_k('l1')\n",
    "print(\"the best k for L1 regularization is \",best_k_L1)\n",
    "print('\\n\\n\\n\\n')\n",
    "\n",
    "# best k for L2-regularization\n",
    "print(\"--------find the best k for L2 regularization--------\")\n",
    "best_k_L2 = score_with_k('l2')\n",
    "print(\"the best k for L1 regularization is \",best_k_L2)\n",
    "print('\\n\\n\\n\\n')\n",
    "    \n",
    "    \n",
    "# ROC curve and scores for logistic regression with L1 regularization\n",
    "print(\"--------ROC curve and scores for L1 regularization with k=1--------\")\n",
    "clf_logistic_L1 = LogisticRegression(penalty='l1',C=10**best_k_L1, random_state=42)\n",
    "logistic_train_plot_score(clf_logistic_L1)\n",
    "print('\\n\\n\\n\\n')\n",
    "\n",
    "\n",
    "# ROC curve and scores for logistic regression with L2 regularization\n",
    "print(\"--------ROC curve and scores for L2 regularization with k=1--------\")\n",
    "clf_logistic_L2 = LogisticRegression(penalty='l2',C=10**best_k_L2, random_state=42)\n",
    "logistic_train_plot_score(clf_logistic_L2)\n",
    "print('\\n\\n\\n\\n')"
   ]
  },
  {
   "cell_type": "code",
   "execution_count": null,
   "metadata": {},
   "outputs": [],
   "source": []
  }
 ],
 "metadata": {
  "kernelspec": {
   "display_name": "Python 3",
   "language": "python",
   "name": "python3"
  },
  "language_info": {
   "codemirror_mode": {
    "name": "ipython",
    "version": 3
   },
   "file_extension": ".py",
   "mimetype": "text/x-python",
   "name": "python",
   "nbconvert_exporter": "python",
   "pygments_lexer": "ipython3",
   "version": "3.6.5"
  }
 },
 "nbformat": 4,
 "nbformat_minor": 2
}
